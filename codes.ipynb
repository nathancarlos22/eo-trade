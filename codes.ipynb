{
 "cells": [
  {
   "cell_type": "code",
   "execution_count": 2,
   "metadata": {},
   "outputs": [
    {
     "name": "stdout",
     "output_type": "stream",
     "text": [
      "pandas version: 2.1.3\n",
      "numpy version: 1.24.3\n",
      "Binance version: 1.0.19\n",
      "matplotlib version: 3.8.2\n",
      "dotenv version: 1.0.0\n",
      "requests version: 2.31.0\n"
     ]
    }
   ],
   "source": [
    "import pandas as pd\n",
    "import numpy as np\n",
    "from binance.client import Client\n",
    "import matplotlib\n",
    "import time\n",
    "from datetime import datetime\n",
    "import os\n",
    "import requests\n",
    "import pkg_resources\n",
    "\n",
    "print(\"pandas version:\", pd.__version__)\n",
    "print(\"numpy version:\", np.__version__)\n",
    "print(\"Binance version:\", pkg_resources.get_distribution('python-binance').version)\n",
    "print(\"matplotlib version:\", matplotlib.__version__)\n",
    "print(\"dotenv version:\", pkg_resources.get_distribution('python-dotenv').version)\n",
    "print(\"requests version:\", requests.__version__)\n",
    "\n",
    "# pip install pandas==2.1.3 numpy==1.24.3 binance==1.0.19 matplotlib==3.8.2 python-dotenv==1.0.0 requests==2.31.0"
   ]
  },
  {
   "cell_type": "code",
   "execution_count": null,
   "metadata": {},
   "outputs": [],
   "source": []
  }
 ],
 "metadata": {
  "kernelspec": {
   "display_name": "Python 3",
   "language": "python",
   "name": "python3"
  },
  "language_info": {
   "codemirror_mode": {
    "name": "ipython",
    "version": 3
   },
   "file_extension": ".py",
   "mimetype": "text/x-python",
   "name": "python",
   "nbconvert_exporter": "python",
   "pygments_lexer": "ipython3",
   "version": "3.10.1"
  }
 },
 "nbformat": 4,
 "nbformat_minor": 2
}
